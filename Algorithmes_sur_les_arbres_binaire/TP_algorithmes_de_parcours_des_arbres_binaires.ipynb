{
 "cells": [
  {
   "cell_type": "markdown",
   "metadata": {},
   "source": [
    "# TP algorithme de parcours des arbres binaires\n",
    "\n",
    "## Travail préparatoire\n",
    "\n",
    "1. Télécharger depuis github dans votre dossier personnel les fichiers `TP_algorithme_de_parcours_des_arbres_binaires.ipynb` et `visualisation_arbre.py` (module nécessaire pour le TP)\n",
    "\n",
    "2. Toutes les réponses à apporter au TP devront être faites dans le fichier `TP_algorithme_de_parcours_des_arbres_binaires.ipynb` et il devra être redéposé dans votre github.\n",
    "\n",
    "Dans ce TP, on utilisera la classe `Arbre` ci-dessous. On choisit de représenter un arbre vide par `None`"
   ]
  },
  {
   "cell_type": "code",
   "execution_count": null,
   "metadata": {},
   "outputs": [],
   "source": [
    "class Arbre:\n",
    "    def __init__(self, valeur, gauche, droit):\n",
    "        self.valeur = valeur\n",
    "        self.gauche = gauche\n",
    "        self.droit = droit\n",
    "    \n",
    "    def get_data(self):\n",
    "        return self.valeur\n",
    "    \n",
    "    def get_SAG(self):\n",
    "        return self.gauche\n",
    "    \n",
    "    def get_SAD(self):\n",
    "        return self.droit\n",
    "\n",
    "def est_vide(arbre):\n",
    "    return arbre is None"
   ]
  },
  {
   "cell_type": "markdown",
   "metadata": {},
   "source": [
    "## Partie 1 : implémentation de la classe `arbre`\n",
    "\n",
    "1. Préciser le type des **paramètres** `valeur`, `gauche` et `droit` dans le constructeur de la classe `Arbre`"
   ]
  },
  {
   "cell_type": "markdown",
   "metadata": {},
   "source": [
    "* type de `valeur` :int \n",
    "* type de `gauche` :objet de la classe Arbre \n",
    "* type de `droit` : objet de la classe Arbre "
   ]
  },
  {
   "cell_type": "markdown",
   "metadata": {},
   "source": [
    "2. Parmi les fonctions `get_data`, `get_SAG`, `get_SAD` et `est_vide`, préciser celles qui sont des **méthodes** de la classe `Arbre`. "
   ]
  },
  {
   "cell_type": "markdown",
   "metadata": {},
   "source": [
    "Ecrire la réponse ici"
   ]
  },
  {
   "cell_type": "markdown",
   "metadata": {},
   "source": [
    "> On rappelle que la syntaxe pour un appel de fonction diffère de la syntaxe pour un appel de méthode.\n",
    "\n",
    "3. Préciser le résultat (et son type) renvoyé par chacune des fonctions `get_data`, `get_SAG`, `get_SAD` et `est_vide`"
   ]
  },
  {
   "cell_type": "markdown",
   "metadata": {},
   "source": [
    "* `get_data` \n",
    "    * résultat : renvoie la valeur \n",
    "    * type du résultat : int \n",
    "* `get_SAG` \n",
    "    * résultat : renvoie le sous arbre gauche\n",
    "    * type du résultat : objet de la classe Arbre \n",
    "* `get_SAD` \n",
    "    * résultat : renvoie le sous arbre droit\n",
    "    * type du résultat : objet de la classe Arbre "
   ]
  },
  {
   "cell_type": "markdown",
   "metadata": {},
   "source": [
    "4. Ecrire le code binaire permettant de générer l'arbre `r` ci-dessous\n",
    "\n",
    "![click droit pour afficher l'image](img/arbre1.png)"
   ]
  },
  {
   "cell_type": "code",
   "execution_count": null,
   "metadata": {},
   "outputs": [],
   "source": []
  },
  {
   "cell_type": "markdown",
   "metadata": {},
   "source": [
    "5. Vérifier que l'arbre a été correctement construit à la question précédente en exécutant le code de la cellule ci-dessous"
   ]
  },
  {
   "cell_type": "code",
   "execution_count": 1,
   "metadata": {},
   "outputs": [
    {
     "ename": "NameError",
     "evalue": "name 'r' is not defined",
     "output_type": "error",
     "traceback": [
      "\u001b[0;31m---------------------------------------------------------------------------\u001b[0m",
      "\u001b[0;31mNameError\u001b[0m                                 Traceback (most recent call last)",
      "\u001b[0;32m<ipython-input-1-b0a152afe865>\u001b[0m in \u001b[0;36m<module>\u001b[0;34m()\u001b[0m\n\u001b[1;32m      1\u001b[0m \u001b[0;32mfrom\u001b[0m \u001b[0mvisualisation_arbre\u001b[0m \u001b[0;32mimport\u001b[0m \u001b[0;34m*\u001b[0m\u001b[0;34m\u001b[0m\u001b[0;34m\u001b[0m\u001b[0m\n\u001b[1;32m      2\u001b[0m \u001b[0;34m\u001b[0m\u001b[0m\n\u001b[0;32m----> 3\u001b[0;31m \u001b[0mshow_tree\u001b[0m\u001b[0;34m(\u001b[0m\u001b[0mr\u001b[0m\u001b[0;34m)\u001b[0m\u001b[0;34m\u001b[0m\u001b[0;34m\u001b[0m\u001b[0m\n\u001b[0m",
      "\u001b[0;31mNameError\u001b[0m: name 'r' is not defined"
     ]
    }
   ],
   "source": [
    "from visualisation_arbre import *\n",
    "\n",
    "show_tree(r)"
   ]
  },
  {
   "cell_type": "markdown",
   "metadata": {},
   "source": [
    "## Partie 2 : parcours en profondeur\n",
    "\n",
    "On rappelle les algorithmes des trois parcours en profondeur (vus en cours)\n",
    "\n",
    "* Algorithme de parcours préfixe\n",
    "\n",
    "```\n",
    "parcours_prefixe(arbre) :\n",
    "    1. Visiter(racine)\n",
    "    \n",
    "    2. Si le sous-arbre gauche est non vide :\n",
    "            parcours_prefixe(sous-arbre gauche) #Appel récursif\n",
    "            \n",
    "    3. Si le sous-arbre droit est non vide :\n",
    "            parcours_prefixe(sous-arbre droit) #Appel récursif\n",
    "```\n",
    "\n",
    "* Algorithme de parcours infixe\n",
    "\n",
    "```\n",
    "parcours_infixe(arbre) :\n",
    "    1. Si le sous-arbre gauche est non vide :\n",
    "            parcours_infixe(sous-arbre gauche) #Appel récursif\n",
    "            \n",
    "    2. Visiter(racine)\n",
    "    \n",
    "    3. Si le sous-arbre droit est non vide :\n",
    "            parcours_infixe(sous-arbre droit) #Appel récursif\n",
    "```\n",
    "\n",
    "* Algorithme de parcours suffixe\n",
    "\n",
    "```\n",
    "parcours_suffixe(arbre) :\n",
    "    1. Si le sous-arbre gauche est non vide :\n",
    "            parcours_suffixe(sous-arbre gauche) #Appel récursif\n",
    "            \n",
    "    2. Si le sous-arbre droit est non vide :\n",
    "            parcours_suffixe(sous-arbre droit) #Appel récursif\n",
    "            \n",
    "    3. Visiter(racine)\n",
    "```\n",
    "\n",
    "> Pour faire la question suivante, on rappelle que la fonction `print` peut prendre un paramètre `end`. Donner une valeur à `end` (différente de `\"\\n\"`) permet d'afficher une suite de valeurs sans passer à la ligne. Un exemple est donné dans les deux cellules suivantes :"
   ]
  },
  {
   "cell_type": "code",
   "execution_count": 1,
   "metadata": {},
   "outputs": [
    {
     "name": "stdout",
     "output_type": "stream",
     "text": [
      "1\n",
      "2\n",
      "3\n"
     ]
    }
   ],
   "source": [
    "# Par défaut print renvoie automatiquement à la ligne\n",
    "\n",
    "print(1)\n",
    "print(2)\n",
    "print(3)"
   ]
  },
  {
   "cell_type": "code",
   "execution_count": 2,
   "metadata": {},
   "outputs": [
    {
     "name": "stdout",
     "output_type": "stream",
     "text": [
      "1, 2, 3\n"
     ]
    }
   ],
   "source": [
    "# On affiche les valeurs sur la même ligne en les séparant par \", \"\n",
    "\n",
    "print(1, end = \", \")\n",
    "print(2, end = \", \")\n",
    "print(3)"
   ]
  },
  {
   "cell_type": "markdown",
   "metadata": {},
   "source": [
    "1. A partir de ces trois algorithmes écrits en pseudo-code, écrire trois **fonctions** python `parcours_prefixe`, `parcours_infixe` et `parcours_suffixe` permettant d'**afficher** :\n",
    "\n",
    "* Pour un arbre non vide : la suite de valeur des noeuds sous la forme suivante `valeur1, valeur2, valeur3, ...` \n",
    "* Pour un arbre vide : la chaîne de caractère `\"arbre vide\"`\n",
    "\n",
    "**Attention :** Pour cela on utilisera l'**interface** proposée par les fonctions `get_data`, `get_SAG`, `get_SAD` et `est_vide` : Il est donc **interdit de manipuler directement les attributs `valeur`, `gauche` et `droit`** dans le code des fonctions"
   ]
  },
  {
   "cell_type": "code",
   "execution_count": null,
   "metadata": {},
   "outputs": [],
   "source": [
    "# Ecrire le code python ici"
   ]
  },
  {
   "cell_type": "markdown",
   "metadata": {},
   "source": [
    "2. Appeler chacune des trois fonctions sur l'arbre `r` et sur un arbre vide pour vérifier leur bon fonctionnement"
   ]
  },
  {
   "cell_type": "code",
   "execution_count": null,
   "metadata": {},
   "outputs": [],
   "source": [
    "# Ecrire le code python ici"
   ]
  },
  {
   "cell_type": "markdown",
   "metadata": {},
   "source": [
    "3. Refaire les deux questions précédentes mais en définissant trois **méthodes** de la classe `Arbre` plutôt que trois fonctions. **Attention :** \n",
    "    * Il faut regénérer l'arbre `r` (en réexécutant la cellule où il est construit) pour prendre en compte les modifications\n",
    "    * Il n'est pas demandé d'appeler les méthodes sur l'arbre vide (sinon, vous aurez nécessairement une erreur !)"
   ]
  },
  {
   "cell_type": "code",
   "execution_count": null,
   "metadata": {},
   "outputs": [],
   "source": [
    "# Ecrire le code python ici"
   ]
  },
  {
   "cell_type": "markdown",
   "metadata": {},
   "source": [
    "4. Expliquer pourquoi on ne peut pas appliquer sur l'arbre vide les méthodes `parcours_prefixe`, `parcours_infixe` et `parcours_suffixe`"
   ]
  },
  {
   "cell_type": "markdown",
   "metadata": {},
   "source": [
    "Ecrire la réponse ici"
   ]
  },
  {
   "cell_type": "markdown",
   "metadata": {},
   "source": [
    "## Partie 3 : parcours en largeur\n",
    "\n",
    "On rappelle l'algorithme du parcours en largeur (vu en cours)\n",
    "\n",
    "```\n",
    "1. Créer une file\n",
    "2. Enfiler l'arbre\n",
    "3. Tant que la file est non vide :\n",
    "       3a. Défiler pour récupérer l'arbre en tête de file\n",
    "       3b. visiter la racine de l'abre\n",
    "       3c. si le sous-arbre gauche de cet arbre n'est pas vide :\n",
    "              On enfile son sous-arbre gauche\n",
    "       3d. si le sous-arbre droit de cet arbre n'est pas vide :\n",
    "              On enfile son sous-arbre droit\n",
    "```\n",
    "\n",
    "> Cet algorithme a besoin d'une file. On va donc commencer par créer une classe `File` possédant les méthodes `est_vide`, `enfile` et `defile`. (Inutile de créer d'autres méthodes car seules ces trois là sont nécessaire dans l'algorithme de parcours en largeur).\n",
    "\n",
    "1. On se propose d'implémenter `File` avec une liste python `content` pour stocker les données. Les données seront **enfilées en fin de liste** et **défilées par la tête de liste**. Compléter la classe `File` ci-dessous"
   ]
  },
  {
   "cell_type": "code",
   "execution_count": null,
   "metadata": {},
   "outputs": [],
   "source": [
    "class File:\n",
    "    def __init__(self):\n",
    "        ''' construit une file vide'''\n",
    "        self.content = []\n",
    "    \n",
    "    def est_vide(self):\n",
    "        # A compléter\n",
    "    \n",
    "    def enfile(self, valeur):\n",
    "        # A compléter\n",
    "    \n",
    "    def defile(self):\n",
    "        '''Défile et renvoie la valeur en tête de file'''\n",
    "        # A compléter        "
   ]
  },
  {
   "cell_type": "markdown",
   "metadata": {},
   "source": [
    "2. Ecrire quelques lignes de code manipulant une file afin de vérifier son bon fonctionnement."
   ]
  },
  {
   "cell_type": "code",
   "execution_count": null,
   "metadata": {},
   "outputs": [],
   "source": [
    "# Ecrire le code python ici"
   ]
  },
  {
   "cell_type": "markdown",
   "metadata": {},
   "source": [
    "3. A partir  l'algorithme du parcours en largeur écrit en pseudo-code, écrire une **fonction** python `parcours_largeur` permettant d'**afficher** :\n",
    "\n",
    "* Pour un arbre non vide : la suite de valeur des noeuds sous la forme suivante `valeur1, valeur2, valeur3, ...` \n",
    "* Pour un arbre vide : la chaîne de caractère `\"arbre vide\"`\n",
    "\n",
    "**Attention :** Pour cela on utilisera l'**interface** proposée par les classes `Arbre` et `File` : Il est donc **interdit de manipuler directement les attributs** dans le code des fonctions"
   ]
  },
  {
   "cell_type": "code",
   "execution_count": null,
   "metadata": {},
   "outputs": [],
   "source": [
    "# Ecrire le code python ici"
   ]
  },
  {
   "cell_type": "markdown",
   "metadata": {},
   "source": [
    "4. Appeler la fonction `parcours_largeur` sur l'arbre `r` et sur un arbre vide pour vérifier leur bon fonctionnement"
   ]
  },
  {
   "cell_type": "code",
   "execution_count": null,
   "metadata": {},
   "outputs": [],
   "source": [
    "# Ecrire le code python ici"
   ]
  },
  {
   "cell_type": "markdown",
   "metadata": {},
   "source": [
    "5. Dans l'algorithme précédent, on effectue les modifications suivantes :\n",
    "\n",
    "* on remplace la file par une pile\n",
    "* Dans la boucle `while`, on traite d'abord le sous-arbre droit avant le sous-arbre gauche\n",
    "\n",
    "Effectuer ci-dessous les manipulations sous python pour découvrir quel parcours est effectué par cet algorithme modifié."
   ]
  },
  {
   "cell_type": "code",
   "execution_count": null,
   "metadata": {},
   "outputs": [],
   "source": [
    "# Ecrire le code python ici"
   ]
  }
 ],
 "metadata": {
  "kernelspec": {
   "display_name": "Python 3",
   "language": "python",
   "name": "python3"
  },
  "language_info": {
   "codemirror_mode": {
    "name": "ipython",
    "version": 3
   },
   "file_extension": ".py",
   "mimetype": "text/x-python",
   "name": "python",
   "nbconvert_exporter": "python",
   "pygments_lexer": "ipython3",
   "version": "3.6.9"
  }
 },
 "nbformat": 4,
 "nbformat_minor": 5
}
