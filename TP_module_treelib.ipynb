{
 "cells": [
  {
   "cell_type": "markdown",
   "id": "51385eff",
   "metadata": {},
   "source": [
    "# TP utilisation du module python \"treelib\"\n",
    "\n",
    "## Partie 1 : manipulation simple du module \"treelib\""
   ]
  },
  {
   "cell_type": "code",
   "execution_count": null,
   "id": "ad65fe04",
   "metadata": {},
   "outputs": [],
   "source": [
    "from treelib import Tree, Node              # Importation de la classe Tree depuis le module treelib\n",
    "mon_arbre = Tree()                          # Creation d'un arbre vide appelé mon_arbre\n",
    "mon_arbre.create_node(\"Travail\", \"r\")       # Ajout d'une racine d'identifiant \"r\" et possédant la valeur \"Travail\"\n",
    "\n",
    "# Ajout des autres noeuds n1, n2, n3, n4, n5 \n",
    "mon_arbre.create_node(\"NSI\", \"n1\", parent=\"r\")   \n",
    "mon_arbre.create_node(\"Math\", \"n2\", parent=\"r\")\n",
    "mon_arbre.create_node(\"Devoirs\", \"n3\", parent=\"n1\")\n",
    "mon_arbre.create_node(\"Corrections\", \"n4\", parent=\"n3\")\n",
    "mon_arbre.create_node(\"Cours\", \"n5\", parent=\"n1\")"
   ]
  },
  {
   "cell_type": "markdown",
   "id": "2bdff4aa",
   "metadata": {},
   "source": [
    "**Attention : Ne pas confondre noeud et étiquette (ou valeur du noeud). Cette distinction sera très importante pour la suite**\n",
    "1. Dessiner sur votre feuille l'arbre créé par l'exécution du code ci-dessous. Vous ferez appraraître pour chaque noeud son identifiant et sa valeur.\n",
    "\n",
    "Vous pouvez **éventuellement** rajouter directement dans le notebook l'image de votre dessin grâce au code markdown ci-dessous.   \n",
    "**Attention :** Ne pas passer trop de temps sur cette insertion dans le notebook !! (maximum 5 minutes...)   \n",
    "\n",
    "![Un commentaire](chemin vers l'image)"
   ]
  },
  {
   "cell_type": "markdown",
   "id": "e2386bb8",
   "metadata": {},
   "source": [
    "Rajouter votre image ci-dessous :"
   ]
  },
  {
   "cell_type": "markdown",
   "id": "bab8e7d6",
   "metadata": {},
   "source": [
    "2. Ouvrir dans un nouvel onglet la documentation du module [treelib](https://treelib.readthedocs.io/en/latest/)\n",
    "\n",
    "> Pour la suite du TP, il faudra consulter cette documentation pour répondre aux questions (Ne pas oublier l'index en bas de page pour rechercher une méthode intéressante). Si vous êtes faché avec l'anglais, il est possible de demander à Firefox de traduire automatiquement la page web.  \n",
    "Néanmoins, pour comprendre le code python, **il faut au moins avoir un peu de vocabulaire anglais. Par exemple savoir dire racine, noeud, feuille, etc...**  \n",
    "**Le code a écrire dans cette première partie est très court : il faut se contenter d'utiliser les bonnes méthodes/fonctions du module `treelib`**\n",
    "\n",
    "3. Ecrire la ligne de code permettant de visualiser mon_arbre"
   ]
  },
  {
   "cell_type": "code",
   "execution_count": null,
   "id": "90c53495",
   "metadata": {},
   "outputs": [],
   "source": [
    "# Ecrire votre code ci-dessous"
   ]
  },
  {
   "cell_type": "markdown",
   "id": "c1b4da61",
   "metadata": {},
   "source": [
    "4. Ecrire la ligne de code permettant d'obtenir la **hauteur** de l'arbre (Attention, il y a une certaine confusion dans la documentation entre hauteur et profondeur)"
   ]
  },
  {
   "cell_type": "code",
   "execution_count": null,
   "id": "63242f2e",
   "metadata": {},
   "outputs": [],
   "source": [
    "# Ecrire votre code ci-dessous"
   ]
  },
  {
   "cell_type": "markdown",
   "id": "1861e247",
   "metadata": {},
   "source": [
    "5. Ecrire la ligne de code permettant d'obtenir la **taille** de l'arbre."
   ]
  },
  {
   "cell_type": "code",
   "execution_count": null,
   "id": "234e21f0",
   "metadata": {},
   "outputs": [],
   "source": [
    "# Ecrire votre code ci-dessous"
   ]
  },
  {
   "cell_type": "markdown",
   "id": "e2057e84",
   "metadata": {},
   "source": [
    "6. Ecrire les lignes de code permettant d'obtenir la **profondeur** de \"Devoirs\""
   ]
  },
  {
   "cell_type": "code",
   "execution_count": null,
   "id": "2ecc6316",
   "metadata": {},
   "outputs": [],
   "source": [
    "# Ecrire votre code ci-dessous"
   ]
  },
  {
   "cell_type": "markdown",
   "id": "922ed3c5",
   "metadata": {},
   "source": [
    "7. Ecrire le code permettant de vérifier si les noeuds d'étiquette \"Travail\" et \"Cours\" sont **racines** de l'arbre "
   ]
  },
  {
   "cell_type": "code",
   "execution_count": null,
   "id": "457e62e1",
   "metadata": {},
   "outputs": [],
   "source": [
    "# Ecrire votre code ci-dessous"
   ]
  },
  {
   "cell_type": "code",
   "execution_count": null,
   "id": "888bcc60",
   "metadata": {},
   "outputs": [],
   "source": [
    "# Ecrire votre code ci-dessous"
   ]
  },
  {
   "cell_type": "markdown",
   "id": "c030d5b4",
   "metadata": {},
   "source": [
    "8. Ecrire la ligne de code permettant d'obtenir la liste des **feuilles**."
   ]
  },
  {
   "cell_type": "code",
   "execution_count": null,
   "id": "fba5f3cc",
   "metadata": {},
   "outputs": [],
   "source": [
    "# Ecrire votre code ci-dessous"
   ]
  },
  {
   "cell_type": "markdown",
   "id": "fb4a9fa9",
   "metadata": {},
   "source": [
    "9. Ecrire la ligne de code permettant de savoir si \"NSI\" est **ancêtre** de \"Cours\""
   ]
  },
  {
   "cell_type": "code",
   "execution_count": null,
   "id": "b87bd270",
   "metadata": {},
   "outputs": [],
   "source": [
    "# Ecrire votre code ci-dessous"
   ]
  },
  {
   "cell_type": "markdown",
   "id": "fcc503c5",
   "metadata": {},
   "source": [
    "10. Ecrire la ligne de code permettant de supprimer le noeud \"NSI\". A quoi correspond le résultat obtenu ?"
   ]
  },
  {
   "cell_type": "code",
   "execution_count": null,
   "id": "078eee7c",
   "metadata": {},
   "outputs": [],
   "source": [
    "# Ecrire votre code ci-dessous\n",
    "\n",
    "# 4 noeuds on été supprimés (\"NSI\" et ses trois descendants)"
   ]
  },
  {
   "cell_type": "markdown",
   "id": "d3f9319b",
   "metadata": {},
   "source": [
    "11. Afficher l'arbre. Que constatez-vous ? Est-ce normal ?"
   ]
  },
  {
   "cell_type": "code",
   "execution_count": null,
   "id": "1498a7f6",
   "metadata": {},
   "outputs": [],
   "source": [
    "# Ecrire votre code ci-dessous\n",
    "\n",
    "# Ecrire la réponse ci-dessous"
   ]
  },
  {
   "cell_type": "markdown",
   "id": "e6fb7e95",
   "metadata": {},
   "source": [
    "## Partie 2\n",
    "\n",
    "Le module `treelib` définit une classe `Node` :\n",
    "\n",
    "```python\n",
    "class Node :\n",
    "    def __init__(self, tag=None, identifier=None, expanded=True, data=None):\n",
    "        # Du code python. Peu importe lequel....\n",
    "```\n",
    "\n",
    "On voit que les objets de classe `Node` possède 4 attributs :\n",
    "* `tag` qui correspond à l'étiquette (ou la valeur) du noeud\n",
    "* `identifier` qui correspond à l'identifiant du noeud\n",
    "* `expanded` qu'on va toujours laisser à `True`\n",
    "* `data` qui correspond à la donnée stockée dans le noeud\n",
    "\n",
    "\n",
    "1. Créer l'arbre généalogique appelé `windsor` ci-dessous dans lequel :\n",
    "    * la valeur du noeud correspond au nom de la personne (ce qui est écrit en gras)\n",
    "    * l'identifiant du noeud correspond au titre de la personne (ce qui est écrit en gris)\n",
    "    * la donnée stockée dans le noeud correspond à l'URL de la page wikipédia de la personne. (Même si on ne le fait presque jamais en cours, le fait de pouvoir stocker une donnée dans chaque noeud est définitivement très utile !)\n",
    "\n",
    "![click droit pour afficher l'image](../img/ex_windsor.png)"
   ]
  },
  {
   "cell_type": "code",
   "execution_count": null,
   "id": "9e0266fc",
   "metadata": {},
   "outputs": [],
   "source": [
    "# Ecrire votre code ci-dessous"
   ]
  },
  {
   "cell_type": "markdown",
   "id": "c4c688c4",
   "metadata": {},
   "source": [
    "2. Afficher l'arbre généalogique. Que constatez vous comme problème ? (il n'est pas demandé de le résoudre)"
   ]
  },
  {
   "cell_type": "code",
   "execution_count": null,
   "id": "58269de8",
   "metadata": {},
   "outputs": [],
   "source": [
    "# Ecrire votre code ci-dessous"
   ]
  },
  {
   "cell_type": "markdown",
   "id": "82fbdf37",
   "metadata": {},
   "source": [
    "2. Exécuter le code ci-dessous\n",
    "    * Quels sont les fichiers produit par ce code ?\n",
    "    * Que contiennent ces fichiers ?\n",
    "    * Quel nouveau module est utilisé dans ce code ?\n",
    "    * Citer les trois méthodes ou fonctions employées dans ce code et pour chacune d'elle préciser dans quel module se trouve son code source\n",
    "    * En examinant sa syntaxe, donner le type de l'objet `(graph, )` à l'avant dernière ligne"
   ]
  },
  {
   "cell_type": "code",
   "execution_count": null,
   "id": "eedbdf1f",
   "metadata": {},
   "outputs": [],
   "source": [
    "import pydot\n",
    "\n",
    "windsor.to_graphviz(filename='windsor.dot', graph='graph')\n",
    "(graph,) = pydot.graph_from_dot_file('windsor.dot')\n",
    "graph.write_png('windsor.png')"
   ]
  },
  {
   "cell_type": "markdown",
   "id": "526fd534",
   "metadata": {},
   "source": []
  },
  {
   "cell_type": "markdown",
   "id": "03c09cf3",
   "metadata": {},
   "source": [
    "2. Créer une fonction `enfant_de` qui :\n",
    "    * prend en paramètre :\n",
    "        * un arbre\n",
    "        * l'identifiant d'un noeud \n",
    "    * et **renvoie** la liste des noms des **fils** de cette personne\n",
    "\n",
    "*indice : On pourra utiliser la méthode `children` (voir documentation)*\n",
    "\n",
    "3. Tester votre fonction afin d'obtenir les enfants de la reine Elisabeth II"
   ]
  },
  {
   "cell_type": "code",
   "execution_count": null,
   "id": "1a855dda",
   "metadata": {},
   "outputs": [],
   "source": [
    "# Ecrire votre code ci-dessous"
   ]
  }
 ],
 "metadata": {
  "kernelspec": {
   "display_name": "Python 3",
   "language": "python",
   "name": "python3"
  },
  "language_info": {
   "codemirror_mode": {
    "name": "ipython",
    "version": 3
   },
   "file_extension": ".py",
   "mimetype": "text/x-python",
   "name": "python",
   "nbconvert_exporter": "python",
   "pygments_lexer": "ipython3",
   "version": "3.7.2"
  }
 },
 "nbformat": 4,
 "nbformat_minor": 5
}
